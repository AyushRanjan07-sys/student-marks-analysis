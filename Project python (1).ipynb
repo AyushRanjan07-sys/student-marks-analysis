{
 "cells": [
  {
   "cell_type": "code",
   "execution_count": 2,
   "id": "dc660800-1c2f-499e-8545-b7845716768a",
   "metadata": {},
   "outputs": [
    {
     "name": "stdout",
     "output_type": "stream",
     "text": [
      "Defaulting to user installation because normal site-packages is not writeable\n",
      "Requirement already satisfied: pandas in c:\\programdata\\anaconda3\\lib\\site-packages (2.2.2)\n",
      "Requirement already satisfied: numpy>=1.26.0 in c:\\programdata\\anaconda3\\lib\\site-packages (from pandas) (1.26.4)\n",
      "Requirement already satisfied: python-dateutil>=2.8.2 in c:\\programdata\\anaconda3\\lib\\site-packages (from pandas) (2.9.0.post0)\n",
      "Requirement already satisfied: pytz>=2020.1 in c:\\programdata\\anaconda3\\lib\\site-packages (from pandas) (2024.1)\n",
      "Requirement already satisfied: tzdata>=2022.7 in c:\\programdata\\anaconda3\\lib\\site-packages (from pandas) (2023.3)\n",
      "Requirement already satisfied: six>=1.5 in c:\\programdata\\anaconda3\\lib\\site-packages (from python-dateutil>=2.8.2->pandas) (1.16.0)\n",
      "Defaulting to user installation because normal site-packages is not writeable\n",
      "Requirement already satisfied: seaborn in c:\\programdata\\anaconda3\\lib\\site-packages (0.13.2)\n",
      "Requirement already satisfied: numpy!=1.24.0,>=1.20 in c:\\programdata\\anaconda3\\lib\\site-packages (from seaborn) (1.26.4)\n",
      "Requirement already satisfied: pandas>=1.2 in c:\\programdata\\anaconda3\\lib\\site-packages (from seaborn) (2.2.2)\n",
      "Requirement already satisfied: matplotlib!=3.6.1,>=3.4 in c:\\programdata\\anaconda3\\lib\\site-packages (from seaborn) (3.9.2)\n",
      "Requirement already satisfied: contourpy>=1.0.1 in c:\\programdata\\anaconda3\\lib\\site-packages (from matplotlib!=3.6.1,>=3.4->seaborn) (1.2.0)\n",
      "Requirement already satisfied: cycler>=0.10 in c:\\programdata\\anaconda3\\lib\\site-packages (from matplotlib!=3.6.1,>=3.4->seaborn) (0.11.0)\n",
      "Requirement already satisfied: fonttools>=4.22.0 in c:\\programdata\\anaconda3\\lib\\site-packages (from matplotlib!=3.6.1,>=3.4->seaborn) (4.51.0)\n",
      "Requirement already satisfied: kiwisolver>=1.3.1 in c:\\programdata\\anaconda3\\lib\\site-packages (from matplotlib!=3.6.1,>=3.4->seaborn) (1.4.4)\n",
      "Requirement already satisfied: packaging>=20.0 in c:\\programdata\\anaconda3\\lib\\site-packages (from matplotlib!=3.6.1,>=3.4->seaborn) (24.1)\n",
      "Requirement already satisfied: pillow>=8 in c:\\programdata\\anaconda3\\lib\\site-packages (from matplotlib!=3.6.1,>=3.4->seaborn) (10.4.0)\n",
      "Requirement already satisfied: pyparsing>=2.3.1 in c:\\programdata\\anaconda3\\lib\\site-packages (from matplotlib!=3.6.1,>=3.4->seaborn) (3.1.2)\n",
      "Requirement already satisfied: python-dateutil>=2.7 in c:\\programdata\\anaconda3\\lib\\site-packages (from matplotlib!=3.6.1,>=3.4->seaborn) (2.9.0.post0)\n",
      "Requirement already satisfied: pytz>=2020.1 in c:\\programdata\\anaconda3\\lib\\site-packages (from pandas>=1.2->seaborn) (2024.1)\n",
      "Requirement already satisfied: tzdata>=2022.7 in c:\\programdata\\anaconda3\\lib\\site-packages (from pandas>=1.2->seaborn) (2023.3)\n",
      "Requirement already satisfied: six>=1.5 in c:\\programdata\\anaconda3\\lib\\site-packages (from python-dateutil>=2.7->matplotlib!=3.6.1,>=3.4->seaborn) (1.16.0)\n",
      "Defaulting to user installation because normal site-packages is not writeable\n",
      "Requirement already satisfied: matplotlib in c:\\programdata\\anaconda3\\lib\\site-packages (3.9.2)\n",
      "Requirement already satisfied: contourpy>=1.0.1 in c:\\programdata\\anaconda3\\lib\\site-packages (from matplotlib) (1.2.0)\n",
      "Requirement already satisfied: cycler>=0.10 in c:\\programdata\\anaconda3\\lib\\site-packages (from matplotlib) (0.11.0)\n",
      "Requirement already satisfied: fonttools>=4.22.0 in c:\\programdata\\anaconda3\\lib\\site-packages (from matplotlib) (4.51.0)\n",
      "Requirement already satisfied: kiwisolver>=1.3.1 in c:\\programdata\\anaconda3\\lib\\site-packages (from matplotlib) (1.4.4)\n",
      "Requirement already satisfied: numpy>=1.23 in c:\\programdata\\anaconda3\\lib\\site-packages (from matplotlib) (1.26.4)\n",
      "Requirement already satisfied: packaging>=20.0 in c:\\programdata\\anaconda3\\lib\\site-packages (from matplotlib) (24.1)\n",
      "Requirement already satisfied: pillow>=8 in c:\\programdata\\anaconda3\\lib\\site-packages (from matplotlib) (10.4.0)\n",
      "Requirement already satisfied: pyparsing>=2.3.1 in c:\\programdata\\anaconda3\\lib\\site-packages (from matplotlib) (3.1.2)\n",
      "Requirement already satisfied: python-dateutil>=2.7 in c:\\programdata\\anaconda3\\lib\\site-packages (from matplotlib) (2.9.0.post0)\n",
      "Requirement already satisfied: six>=1.5 in c:\\programdata\\anaconda3\\lib\\site-packages (from python-dateutil>=2.7->matplotlib) (1.16.0)\n"
     ]
    }
   ],
   "source": [
    "!pip install pandas\n",
    "!pip install seaborn\n",
    "!pip install matplotlib"
   ]
  },
  {
   "cell_type": "code",
   "execution_count": 6,
   "id": "8f39cea9-10d6-4f7f-be3f-830640521670",
   "metadata": {},
   "outputs": [],
   "source": [
    "import seaborn as sns\n",
    "import matplotlib.pyplot as plt"
   ]
  },
  {
   "cell_type": "code",
   "execution_count": 7,
   "id": "2f956b20-c3b9-4a65-987f-4c38f8b39573",
   "metadata": {},
   "outputs": [
    {
     "data": {
      "text/html": [
       "<div>\n",
       "<style scoped>\n",
       "    .dataframe tbody tr th:only-of-type {\n",
       "        vertical-align: middle;\n",
       "    }\n",
       "\n",
       "    .dataframe tbody tr th {\n",
       "        vertical-align: top;\n",
       "    }\n",
       "\n",
       "    .dataframe thead th {\n",
       "        text-align: right;\n",
       "    }\n",
       "</style>\n",
       "<table border=\"1\" class=\"dataframe\">\n",
       "  <thead>\n",
       "    <tr style=\"text-align: right;\">\n",
       "      <th></th>\n",
       "      <th>Unnamed: 0</th>\n",
       "      <th>Gender</th>\n",
       "      <th>DOB</th>\n",
       "      <th>Maths</th>\n",
       "      <th>Physics</th>\n",
       "      <th>Chemistry</th>\n",
       "      <th>English</th>\n",
       "      <th>Biology</th>\n",
       "      <th>Economics</th>\n",
       "      <th>History</th>\n",
       "      <th>Civics</th>\n",
       "    </tr>\n",
       "  </thead>\n",
       "  <tbody>\n",
       "    <tr>\n",
       "      <th>0</th>\n",
       "      <td>John</td>\n",
       "      <td>M</td>\n",
       "      <td>05-04-1988</td>\n",
       "      <td>55</td>\n",
       "      <td>45</td>\n",
       "      <td>56</td>\n",
       "      <td>87</td>\n",
       "      <td>21</td>\n",
       "      <td>52</td>\n",
       "      <td>89</td>\n",
       "      <td>65</td>\n",
       "    </tr>\n",
       "    <tr>\n",
       "      <th>1</th>\n",
       "      <td>Suresh</td>\n",
       "      <td>M</td>\n",
       "      <td>04-05-1987</td>\n",
       "      <td>75</td>\n",
       "      <td>96</td>\n",
       "      <td>78</td>\n",
       "      <td>64</td>\n",
       "      <td>90</td>\n",
       "      <td>61</td>\n",
       "      <td>58</td>\n",
       "      <td>2</td>\n",
       "    </tr>\n",
       "    <tr>\n",
       "      <th>2</th>\n",
       "      <td>Ramesh</td>\n",
       "      <td>M</td>\n",
       "      <td>25-05-1989</td>\n",
       "      <td>25</td>\n",
       "      <td>54</td>\n",
       "      <td>89</td>\n",
       "      <td>76</td>\n",
       "      <td>95</td>\n",
       "      <td>87</td>\n",
       "      <td>56</td>\n",
       "      <td>74</td>\n",
       "    </tr>\n",
       "    <tr>\n",
       "      <th>3</th>\n",
       "      <td>Jessica</td>\n",
       "      <td>F</td>\n",
       "      <td>12-08-1990</td>\n",
       "      <td>78</td>\n",
       "      <td>96</td>\n",
       "      <td>86</td>\n",
       "      <td>63</td>\n",
       "      <td>54</td>\n",
       "      <td>89</td>\n",
       "      <td>75</td>\n",
       "      <td>45</td>\n",
       "    </tr>\n",
       "    <tr>\n",
       "      <th>4</th>\n",
       "      <td>Jennifer</td>\n",
       "      <td>F</td>\n",
       "      <td>02-09-1989</td>\n",
       "      <td>58</td>\n",
       "      <td>96</td>\n",
       "      <td>78</td>\n",
       "      <td>46</td>\n",
       "      <td>96</td>\n",
       "      <td>77</td>\n",
       "      <td>83</td>\n",
       "      <td>53</td>\n",
       "    </tr>\n",
       "  </tbody>\n",
       "</table>\n",
       "</div>"
      ],
      "text/plain": [
       "  Unnamed: 0 Gender         DOB  Maths  Physics  Chemistry  English  Biology  \\\n",
       "0       John      M  05-04-1988     55       45         56       87       21   \n",
       "1     Suresh      M  04-05-1987     75       96         78       64       90   \n",
       "2     Ramesh      M  25-05-1989     25       54         89       76       95   \n",
       "3    Jessica      F  12-08-1990     78       96         86       63       54   \n",
       "4   Jennifer      F  02-09-1989     58       96         78       46       96   \n",
       "\n",
       "   Economics  History  Civics  \n",
       "0         52       89      65  \n",
       "1         61       58       2  \n",
       "2         87       56      74  \n",
       "3         89       75      45  \n",
       "4         77       83      53  "
      ]
     },
     "execution_count": 7,
     "metadata": {},
     "output_type": "execute_result"
    }
   ],
   "source": [
    "import pandas as pd\n",
    "scores=pd.read_csv(\"C:\\\\Users\\\\AYUSH\\\\Downloads\\\\student_marks.csv\" )\n",
    "scores.head()"
   ]
  },
  {
   "cell_type": "code",
   "execution_count": 24,
   "id": "9fed8eac-8041-4e5a-a835-addb70db7151",
   "metadata": {},
   "outputs": [
    {
     "name": "stdout",
     "output_type": "stream",
     "text": [
      "\n",
      "Welcome! What operation do you want to perform?\n"
     ]
    },
    {
     "name": "stdin",
     "output_type": "stream",
     "text": [
      "Choose: basic level / advance level / exit:  basic level\n"
     ]
    },
    {
     "name": "stdout",
     "output_type": "stream",
     "text": [
      "\n",
      "Basic Level Operations:\n",
      "Options: mean, max, pass or fail status, highest and lowest marks subject wise\n",
      "Type 'back' to return to main menu\n"
     ]
    },
    {
     "name": "stdin",
     "output_type": "stream",
     "text": [
      "Enter your task:  back\n"
     ]
    },
    {
     "name": "stdout",
     "output_type": "stream",
     "text": [
      "\n",
      "Welcome! What operation do you want to perform?\n"
     ]
    },
    {
     "name": "stdin",
     "output_type": "stream",
     "text": [
      "Choose: basic level / advance level / exit:  advance level\n"
     ]
    },
    {
     "name": "stdout",
     "output_type": "stream",
     "text": [
      "\n",
      "Advance Level Visuals:\n",
      "Options: bar plot, dist plot, scatter plot, pair plot\n",
      "Type 'back' to return to main menu\n"
     ]
    },
    {
     "name": "stdin",
     "output_type": "stream",
     "text": [
      "Enter your task:  bar plot\n",
      "Enter the subject:  Physics\n"
     ]
    },
    {
     "name": "stderr",
     "output_type": "stream",
     "text": [
      "C:\\Users\\AYUSH\\AppData\\Local\\Temp\\ipykernel_17128\\1642490079.py:82: FutureWarning: \n",
      "\n",
      "Passing `palette` without assigning `hue` is deprecated and will be removed in v0.14.0. Assign the `x` variable to `hue` and set `legend=False` for the same effect.\n",
      "\n",
      "  sns.barplot(x='Unnamed: 0', y=sub, data=scores, palette='rocket')\n"
     ]
    },
    {
     "data": {
      "image/png": "[encoded data removed]",
      "text/plain": [
       "<Figure size 640x480 with 1 Axes>"
      ]
     },
     "metadata": {},
     "output_type": "display_data"
    },
    {
     "name": "stdout",
     "output_type": "stream",
     "text": [
      "\n",
      "Advance Level Visuals:\n",
      "Options: bar plot, dist plot, scatter plot, pair plot\n",
      "Type 'back' to return to main menu\n"
     ]
    },
    {
     "name": "stdin",
     "output_type": "stream",
     "text": [
      "Enter your task:  back\n"
     ]
    },
    {
     "name": "stdout",
     "output_type": "stream",
     "text": [
      "\n",
      "Welcome! What operation do you want to perform?\n"
     ]
    },
    {
     "name": "stdin",
     "output_type": "stream",
     "text": [
      "Choose: basic level / advance level / exit:  exit\n"
     ]
    },
    {
     "name": "stdout",
     "output_type": "stream",
     "text": [
      "Exiting the program. Thank you!\n"
     ]
    }
   ],
   "source": [
    "while True:\n",
    "    print(\"\\nWelcome! What operation do you want to perform?\")\n",
    "    header = input(\"Choose: basic level / advance level / exit: \").strip().lower()\n",
    "\n",
    "    if header == \"exit\":\n",
    "        print(\"Exiting the program. Thank you!\")\n",
    "        break\n",
    "\n",
    "    elif header == \"basic level\":\n",
    "        while True:\n",
    "            print(\"\\nBasic Level Operations:\")\n",
    "            print(\"Options: mean, max, pass or fail status, highest and lowest marks subject wise\")\n",
    "            print(\"Type 'back' to return to main menu\")\n",
    "            task = input(\"Enter your task: \").strip().lower()\n",
    "\n",
    "            if task == \"back\":\n",
    "                break\n",
    "\n",
    "            elif task == \"mean\":\n",
    "                a = input(\"Enter the subject: \").strip()\n",
    "                try:\n",
    "                    if a in scores.columns:\n",
    "                        print(f\"Mean marks in {a}: {scores[a].mean()}\")\n",
    "                    else:\n",
    "                        print(\"Invalid subject name.\")\n",
    "                except Exception as e:\n",
    "                    print(f\"Error: {e}\")\n",
    "\n",
    "            elif task == \"max\":\n",
    "                b = input(\"Enter the subject: \").strip()\n",
    "                try:\n",
    "                    if b in scores.columns:\n",
    "                        print(f\"Highest marks in {b}: {scores[b].max()}\")\n",
    "                    else:\n",
    "                        print(\"Invalid subject name.\")\n",
    "                except Exception as e:\n",
    "                    print(f\"Error: {e}\")\n",
    "\n",
    "            elif task == \"pass or fail status\":\n",
    "                a = input(\"Enter the subject: \").strip()\n",
    "                if a in scores.columns:\n",
    "                    passing_marks = scores[a].mean()\n",
    "                    name = input(\"Enter the student's name: \").strip()\n",
    "                    try:\n",
    "                        student_marks = scores.loc[scores['Unnamed: 0'] == name, a].values[0]\n",
    "                        print(\"Pass\" if student_marks >= passing_marks else \"Fail\")\n",
    "                    except IndexError:\n",
    "                        print(\"Student not found.\")\n",
    "                    except Exception as e:\n",
    "                        print(f\"Error: {e}\")\n",
    "                else:\n",
    "                    print(\"Invalid subject name.\")\n",
    "\n",
    "            elif task == \"highest and lowest marks subject wise\":\n",
    "                sub = input(\"Enter the subject: \").strip()\n",
    "                try:\n",
    "                    if sub in scores.columns:\n",
    "                        print(f\"Highest marks: {scores[sub].max()}\")\n",
    "                        print(f\"Lowest marks: {scores[sub].min()}\")\n",
    "                    else:\n",
    "                        print(\"Invalid subject name.\")\n",
    "                except Exception as e:\n",
    "                    print(f\"Error: {e}\")\n",
    "\n",
    "            else:\n",
    "                print(\"Invalid operation. Please try again.\")\n",
    "\n",
    "    elif header == \"advance level\":\n",
    "        while True:\n",
    "            print(\"\\nAdvance Level Visuals:\")\n",
    "            print(\"Options: bar plot, dist plot, scatter plot, pair plot\")\n",
    "            print(\"Type 'back' to return to main menu\")\n",
    "            task = input(\"Enter your task: \").strip().lower()\n",
    "\n",
    "            if task == \"back\":\n",
    "                break\n",
    "\n",
    "            elif task == \"bar plot\":\n",
    "                sub = input(\"Enter the subject: \").strip()\n",
    "                if sub in scores.columns:\n",
    "                    try:\n",
    "                        sns.barplot(x='Unnamed: 0', y=sub, data=scores, palette='rocket')\n",
    "                        plt.title(f\"{sub} Bar Plot\")\n",
    "                        plt.xticks(rotation=45)\n",
    "                        plt.tight_layout()\n",
    "                        plt.show()\n",
    "                    except Exception as e:\n",
    "                        print(f\"Error: {e}\")\n",
    "                else:\n",
    "                    print(\"Invalid subject name.\")\n",
    "\n",
    "            elif task == \"dist plot\":\n",
    "                sub = input(\"Enter the subject: \").strip()\n",
    "                if sub in scores.columns:\n",
    "                    try:\n",
    "                        sns.histplot(scores[sub], bins=10, kde=True, color='red')\n",
    "                        plt.title(f\"{sub} Distribution\")\n",
    "                        plt.show()\n",
    "                    except Exception as e:\n",
    "                        print(f\"Error: {e}\")\n",
    "                else:\n",
    "                    print(\"Invalid subject name.\")\n",
    "\n",
    "            elif task == \"scatter plot\":\n",
    "                print(\"Choose: on gender basis / performance tier\")\n",
    "                subtask = input(\"Enter your choice: \").strip().lower()\n",
    "\n",
    "                if subtask == \"on gender basis\":\n",
    "                    sub1 = input(\"Enter subject 1: \").strip()\n",
    "                    sub2 = input(\"Enter subject 2: \").strip()\n",
    "                    if sub1 in scores.columns and sub2 in scores.columns:\n",
    "                        try:\n",
    "                            sns.scatterplot(data=scores, x=sub1, y=sub2, hue=\"Gender\")\n",
    "                            plt.title(f\"{sub1} vs {sub2} (by Gender)\")\n",
    "                            plt.show()\n",
    "                        except Exception as e:\n",
    "                            print(f\"Error: {e}\")\n",
    "                    else:\n",
    "                        print(\"Invalid subject names.\")\n",
    "\n",
    "                elif subtask == \"performance tier\":\n",
    "                    try:\n",
    "                        scores['Performance'] = scores[['Maths', 'Physics', 'Chemistry']].mean(axis=1).apply(\n",
    "                            lambda x: 'High' if x >= 80 else ('Medium' if x >= 50 else 'Low'))\n",
    "                        sns.scatterplot(data=scores, x='Physics', y='Chemistry', hue='Performance')\n",
    "                        plt.title(\"Performance Levels\")\n",
    "                        plt.show()\n",
    "                    except Exception as e:\n",
    "                        print(f\"Error: {e}\")\n",
    "                else:\n",
    "                    print(\"Invalid scatter plot category.\")\n",
    "\n",
    "            elif task == \"pair plot\":\n",
    "                print(\"Options: gender / skip\")\n",
    "                subtask = input(\"Enter your choice: \").strip().lower()\n",
    "                try:\n",
    "                    if subtask == \"gender\":\n",
    "                        sns.pairplot(scores, hue=\"Gender\", palette=\"rocket\")\n",
    "                        plt.show()\n",
    "                    else:\n",
    "                        sns.pairplot(scores)\n",
    "                        plt.show()\n",
    "                except Exception as e:\n",
    "                    print(f\"Error: {e}\")\n",
    "\n",
    "            else:\n",
    "                print(\"Invalid visualization. Try again.\")\n",
    "\n",
    "    else:\n",
    "        print(\"Invalid input. Please type basic level, advance level, or exit.\")\n"
   ]
  },
  {
   "cell_type": "code",
   "execution_count": null,
   "id": "0718fff0-66d6-4035-822f-24f1c3aa54b3",
   "metadata": {},
   "outputs": [],
   "source": []
  },
  {
   "cell_type": "markdown",
   "id": "7b6145b7-9a00-4633-bacc-dde815c406bc",
   "metadata": {
    "jp-MarkdownHeadingCollapsed": true
   },
   "source": []
  },
  {
   "cell_type": "code",
   "execution_count": null,
   "id": "05fd0317-a318-43a9-be72-10781cf35afd",
   "metadata": {},
   "outputs": [],
   "source": []
  },
  {
   "cell_type": "code",
   "execution_count": null,
   "id": "3a52d019-82ea-4f6b-9b9a-ce9cd14177af",
   "metadata": {},
   "outputs": [],
   "source": []
  },
  {
   "cell_type": "code",
   "execution_count": null,
   "id": "3bd30be8-4d7d-4943-81a5-7de8a6b3fd7c",
   "metadata": {},
   "outputs": [],
   "source": []
  }
 ],
 "metadata": {
  "kernelspec": {
   "display_name": "Python [conda env:base] *",
   "language": "python",
   "name": "conda-base-py"
  },
  "language_info": {
   "codemirror_mode": {
    "name": "ipython",
    "version": 3
   },
   "file_extension": ".py",
   "mimetype": "text/x-python",
   "name": "python",
   "nbconvert_exporter": "python",
   "pygments_lexer": "ipython3",
   "version": "3.12.7"
  }
 },
 "nbformat": 4,
 "nbformat_minor": 5
}
